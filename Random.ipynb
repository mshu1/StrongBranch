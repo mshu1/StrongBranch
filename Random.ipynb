{
 "cells": [
  {
   "cell_type": "code",
   "execution_count": 45,
   "metadata": {},
   "outputs": [],
   "source": [
    "import numpy as np\n",
    "import networkx as nx\n",
    "import matplotlib.pyplot as plt\n",
    "from sklearn.model_selection import train_test_split\n",
    "import src.graph_ops as go\n",
    "import pandas as pd\n",
    "import torch\n",
    "import torch.nn as nn\n",
    "import torch.nn.functional as F\n",
    "import torch.optim as optim\n",
    "import torchvision\n",
    "from torch.autograd import Variable\n",
    "from torch.utils import data\n",
    "from sklearn.preprocessing import OneHotEncoder"
   ]
  },
  {
   "cell_type": "code",
   "execution_count": 46,
   "metadata": {},
   "outputs": [],
   "source": [
    "graphs = np.load(\"data/graph_10node7500.npy\")\n",
    "# options: graph_10+20k, graph_10+10k\n",
    "labels = np.load(\"data/labels_10node7500.npy\")\n",
    "# options: labels_10+20k, labels_10+10k"
   ]
  },
  {
   "cell_type": "code",
   "execution_count": 47,
   "metadata": {},
   "outputs": [],
   "source": [
    "def random(labels, k = 5):\n",
    "    n = labels.shape[0]\n",
    "    preds = np.array(\n",
    "        [np.random.choice(\n",
    "            np.arange(10),k, replace = False) for i in range(n)])\n",
    "    \n",
    "    return preds"
   ]
  },
  {
   "cell_type": "code",
   "execution_count": 48,
   "metadata": {},
   "outputs": [],
   "source": [
    "def top_k_acc(labels, k = 5):\n",
    "\n",
    "    eqs_list = []\n",
    "    top_k = random(labels,k)\n",
    "    for i in range(labels.shape[0]):\n",
    "        row = labels[i]\n",
    "        eqs_arr = []\n",
    "        for ele in row:\n",
    "            eqs_arr.append(np.any(ele == top_k[i]))\n",
    "        eqs_arr = np.array(eqs_arr)\n",
    "        eq = eqs_arr.all()\n",
    "        eqs_list.append(eq)\n",
    "    eqs = np.array(eqs_list)\n",
    "    return eqs.mean()\n"
   ]
  },
  {
   "cell_type": "code",
   "execution_count": 49,
   "metadata": {},
   "outputs": [
    {
     "data": {
      "text/plain": [
       "[0.021906532129580457,\n",
       " 0.06585236325013277,\n",
       " 0.13688263409453,\n",
       " 0.22530536378120022,\n",
       " 0.32886351566648964,\n",
       " 0.46999468932554433,\n",
       " 0.6259957514604355,\n",
       " 0.799522039298991,\n",
       " 1.0]"
      ]
     },
     "execution_count": 49,
     "metadata": {},
     "output_type": "execute_result"
    }
   ],
   "source": [
    "[top_k_acc(labels, k) for k in range(2,11)]"
   ]
  },
  {
   "cell_type": "code",
   "execution_count": 42,
   "metadata": {},
   "outputs": [
    {
     "data": {
      "text/plain": [
       "array([[0, 2],\n",
       "       [0, 2],\n",
       "       [0, 2],\n",
       "       ...,\n",
       "       [0, 9],\n",
       "       [0, 4],\n",
       "       [0, 3]])"
      ]
     },
     "execution_count": 42,
     "metadata": {},
     "output_type": "execute_result"
    }
   ],
   "source": [
    "labels"
   ]
  },
  {
   "cell_type": "code",
   "execution_count": null,
   "metadata": {},
   "outputs": [],
   "source": []
  }
 ],
 "metadata": {
  "kernelspec": {
   "display_name": "Python [conda env:Tutorial]",
   "language": "python",
   "name": "conda-env-Tutorial-py"
  },
  "language_info": {
   "codemirror_mode": {
    "name": "ipython",
    "version": 3
   },
   "file_extension": ".py",
   "mimetype": "text/x-python",
   "name": "python",
   "nbconvert_exporter": "python",
   "pygments_lexer": "ipython3",
   "version": "3.6.8"
  }
 },
 "nbformat": 4,
 "nbformat_minor": 2
}
